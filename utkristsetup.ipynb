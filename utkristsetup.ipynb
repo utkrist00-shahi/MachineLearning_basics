{
 "cells": [
  {
   "cell_type": "markdown",
   "id": "b1912311",
   "metadata": {},
   "source": [
    "## Environment Setup"
   ]
  },
  {
   "cell_type": "markdown",
   "id": "636a42d4",
   "metadata": {},
   "source": [
    "pip install numpy pandas matplotlib seaborn jupyter"
   ]
  },
  {
   "cell_type": "markdown",
   "id": "9649e07c",
   "metadata": {},
   "source": [
    "## Data Structures"
   ]
  },
  {
   "cell_type": "code",
   "execution_count": 3,
   "id": "989ca124",
   "metadata": {},
   "outputs": [
    {
     "name": "stdout",
     "output_type": "stream",
     "text": [
      "['Mr. Utkrist', 'Shahi', 'Kathmandu', 25, 'Engineer', 'Python']\n",
      "['Shahi', 'Kathmandu', 25]\n",
      "('Apple', 'Banana', 'Cherry', 'Utkrist', 'Shahi')\n",
      "Utkrist\n",
      "Apple\n",
      "Banana\n",
      "Cherry\n",
      "Utkrist\n",
      "Shahi\n",
      "{'first_name': 'Utkrist', 'last_name': 'Shahi', 'age': 25, 'occupation': 'Software Developer'}\n",
      "Software Developer\n",
      "{'first_name': 'Utkrist', 'last_name': 'Shahi', 'age': 26, 'occupation': 'Software Developer', 'city': 'Pokhara'}\n",
      "{'first_name': 'Utkrist', 'last_name': 'Shahi', 'age': 26, 'city': 'Pokhara'}\n",
      "dict_keys(['first_name', 'last_name', 'age', 'city'])\n",
      "dict_values(['Utkrist', 'Shahi', 26, 'Pokhara'])\n",
      "{'Python', 'Shahi', 'Utkrist', 'Developer'}\n",
      "{'Utkrist', 'Developer', 'AI', 'Python'}\n",
      "{'Utkrist', 'Developer', 'AI', 'Java', 'Python'}\n",
      "{'Utkrist', 'Developer'}\n"
     ]
    }
   ],
   "source": [
    "# List practice\n",
    "my_list = [\"Utkrist\", \"Shahi\", 25, \"Engineer\", True]\n",
    "my_list.append(\"Python\")\n",
    "my_list.insert(2, \"Kathmandu\")\n",
    "my_list.remove(True)\n",
    "my_list[0] = \"Mr. Utkrist\"\n",
    "print(my_list)\n",
    "print(my_list[1:4])\n",
    "\n",
    "# Tuple practice\n",
    "my_tuple = (\"Apple\", \"Banana\", \"Cherry\", \"Utkrist\", \"Shahi\")\n",
    "print(my_tuple)\n",
    "print(my_tuple[3])\n",
    "for item in my_tuple:\n",
    "    print(item)\n",
    "\n",
    "# Dictionary practice\n",
    "my_dict = {\n",
    "    \"first_name\": \"Utkrist\",\n",
    "    \"last_name\": \"Shahi\",\n",
    "    \"age\": 25,\n",
    "    \"occupation\": \"Software Developer\"\n",
    "}\n",
    "print(my_dict)\n",
    "print(my_dict[\"occupation\"])\n",
    "my_dict[\"city\"] = \"Pokhara\"\n",
    "my_dict[\"age\"] = 26\n",
    "print(my_dict)\n",
    "del my_dict[\"occupation\"]\n",
    "print(my_dict)\n",
    "print(my_dict.keys())\n",
    "print(my_dict.values())\n",
    "\n",
    "# Set practice\n",
    "my_set = {\"Utkrist\", \"Shahi\", \"Python\", \"Developer\", \"Python\"}\n",
    "print(my_set)\n",
    "my_set.add(\"AI\")\n",
    "my_set.remove(\"Shahi\")\n",
    "print(my_set)\n",
    "another_set = {\"Java\", \"Developer\", \"Utkrist\"}\n",
    "union_set = my_set.union(another_set)\n",
    "print(union_set)\n",
    "intersection_set = my_set.intersection(another_set)\n",
    "print(intersection_set)\n"
   ]
  },
  {
   "cell_type": "markdown",
   "id": "66dc8328",
   "metadata": {},
   "source": [
    "## OOP Concepts"
   ]
  },
  {
   "cell_type": "code",
   "execution_count": 5,
   "id": "2c3b6790",
   "metadata": {},
   "outputs": [
    {
     "name": "stdout",
     "output_type": "stream",
     "text": [
      "--- Utkrist's Information ---\n",
      "Name: Utkrist Shahi\n",
      "Age: 25\n",
      "Utkrist's full name: Utkrist Shahi\n",
      "\n",
      "--- Another Shahi's Information ---\n",
      "Name: Another Shahi\n",
      "Age: 30\n",
      "Another Shahi's full name: Another Shahi\n",
      "\n",
      "Utkrist's updated age: 26\n"
     ]
    }
   ],
   "source": [
    "  # Define a class named Person\n",
    "class Person:\n",
    "    # The __init__ method is the constructor for the class.\n",
    "    # It's called when a new object (instance) of the class is created.\n",
    "    def __init__(self, first_name, last_name, age):\n",
    "        # Attributes (data) of the Person object\n",
    "        self.first_name = first_name\n",
    "        self.last_name = last_name\n",
    "        self.age = age\n",
    "\n",
    "    # Method to get the full name of the person\n",
    "    def get_full_name(self):\n",
    "        return f\"{self.first_name} {self.last_name}\"\n",
    "\n",
    "    # Method to display information about the person\n",
    "    def display_info(self):\n",
    "        print(f\"Name: {self.get_full_name()}\")\n",
    "        print(f\"Age: {self.age}\")\n",
    "\n",
    "# Create objects (instances) of the Person class\n",
    "# Utkrist's object\n",
    "utkrist = Person(\"Utkrist\", \"Shahi\", 25)\n",
    "\n",
    "# Shahi's object (assuming a different person with the same last name or just another example)\n",
    "another_shahi = Person(\"Another\", \"Shahi\", 30)\n",
    "\n",
    "# Access attributes and call methods using the objects\n",
    "print(\"--- Utkrist's Information ---\")\n",
    "utkrist.display_info()\n",
    "print(f\"Utkrist's full name: {utkrist.get_full_name()}\")\n",
    "\n",
    "print(\"\\n--- Another Shahi's Information ---\")\n",
    "another_shahi.display_info()\n",
    "print(f\"Another Shahi's full name: {another_shahi.get_full_name()}\")\n",
    "\n",
    "# You can also change attributes after creation\n",
    "utkrist.age = 26\n",
    "print(f\"\\nUtkrist's updated age: {utkrist.age}\")\n"
   ]
  },
  {
   "cell_type": "markdown",
   "id": "7fe6cd77",
   "metadata": {},
   "source": [
    "## Asynchrounous Programming\n"
   ]
  },
  {
   "cell_type": "code",
   "execution_count": null,
   "id": "05c97411",
   "metadata": {},
   "outputs": [
    {
     "name": "stdout",
     "output_type": "stream",
     "text": [
      "--- Utkrist's Information ---\n",
      "Name: Utkrist Shahi\n",
      "Age: 25\n",
      "Utkrist's full name: Utkrist Shahi\n",
      "\n",
      "--- Another Shahi's Information ---\n",
      "Name: Another Shahi\n",
      "Age: 30\n",
      "Another Shahi's full name: Another Shahi\n",
      "\n",
      "Utkrist's updated age: 26\n",
      "\n",
      "--- Demonstrating Asynchronous Tasks ---\n",
      "Utkrist Shahi is starting an asynchronous task...\n",
      "Another Shahi is starting an asynchronous task...\n",
      "Utkrist Shahi has finished the asynchronous task.\n",
      "Another Shahi has finished the asynchronous task.\n",
      "\n",
      "All asynchronous tasks completed. Results:\n",
      "Utkrist Shahi's task completed!\n",
      "Another Shahi's task completed!\n"
     ]
    }
   ],
   "source": [
    "import asyncio\n",
    "\n",
    "# I'm defining a class here called 'Person'.\n",
    "# This is like a blueprint for creating person objects.\n",
    "class Person:\n",
    "    # This is my constructor, '__init__'.\n",
    "    # It runs every time I create a new 'Person' object.\n",
    "    def __init__(self, first_name, last_name, age):\n",
    "        self.first_name = first_name\n",
    "        self.last_name = last_name\n",
    "        self.age = age\n",
    "\n",
    "    # This is a method to get the full name.\n",
    "    # It just combines the first and last name for me.\n",
    "    def get_full_name(self):\n",
    "        return f\"{self.first_name} {self.last_name}\"\n",
    "\n",
    "    async def perform_async_task(self):\n",
    "        print(f\"{self.get_full_name()} is starting an asynchronous task...\")\n",
    "        # I'm using 'await asyncio.sleep(2)' here.\n",
    "   \n",
    "        await asyncio.sleep(2)\n",
    "        print(f\"{self.get_full_name()} has finished the asynchronous task.\")\n",
    "        return f\"{self.get_full_name()}'s task completed!\"\n",
    "\n",
    "    # This is just a simple method to print out the person's information.\n",
    "    def display_info(self):\n",
    "        print(f\"Name: {self.get_full_name()}\")\n",
    "        print(f\"Age: {self.age}\")\n",
    "\n",
    "# This is my main asynchronous function where I'll run everything.\n",
    "async def main():\n",
    "    # I'm creating two 'Person' objects here.\n",
    "    # One for Utkrist and one for another person named Shahi.\n",
    "    utkrist = Person(\"Utkrist\", \"Shahi\", 25)\n",
    "    another_shahi = Person(\"Another\", \"Shahi\", 30)\n",
    "\n",
    "    # I'm just printing out Utkrist's information to see if it works.\n",
    "    print(\"--- Utkrist's Information ---\")\n",
    "    utkrist.display_info()\n",
    "    print(f\"Utkrist's full name: {utkrist.get_full_name()}\")\n",
    "\n",
    "    # And now for the other Shahi person.\n",
    "    print(\"\\n--- Another Shahi's Information ---\")\n",
    "    another_shahi.display_info()\n",
    "    print(f\"Another Shahi's full name: {another_shahi.get_full_name()}\")\n",
    "\n",
    "    # I'm updating Utkrist's age here.\n",
    "    utkrist.age = 26\n",
    "    print(f\"\\nUtkrist's updated age: {utkrist.age}\")\n",
    "\n",
    "    print(\"\\n--- Demonstrating Asynchronous Tasks ---\")\n",
    "    # This is the exciting part! I'm scheduling both Utkrist's and Shahi's async tasks.\n",
    "    # They're going to run at the same time, or at least appear to.\n",
    "    task1 = utkrist.perform_async_task()\n",
    "    task2 = another_shahi.perform_async_task()\n",
    "\n",
    "    # I'm using 'await asyncio.gather(task1, task2)' to wait for both tasks to complete.\n",
    "    # This ensures my program doesn't move on until both simulated long-running tasks are done.\n",
    "    results = await asyncio.gather(task1, task2)\n",
    "    print(\"\\nAll asynchronous tasks completed. Results:\")\n",
    "    for res in results:\n",
    "        print(res)\n",
    "\n",
    "\n",
    "if __name__ == \"__main__\":\n",
    "    try:\n",
    "        loop = asyncio.get_running_loop()\n",
    "    except RuntimeError:\n",
    "        asyncio.run(main())\n",
    "    else:\n",
    "        loop.create_task(main())\n"
   ]
  },
  {
   "cell_type": "markdown",
   "id": "b81acbfc",
   "metadata": {},
   "source": [
    "## Python Libraries"
   ]
  },
  {
   "cell_type": "code",
   "execution_count": 18,
   "id": "3e53b563",
   "metadata": {},
   "outputs": [
    {
     "name": "stdout",
     "output_type": "stream",
     "text": [
      "Original NumPy array: [1 2 3 4]\n",
      "Scaled NumPy array (multiplied by 2): [2 4 6 8]\n",
      "\n",
      "Pandas DataFrame:\n",
      "       Name  Score        City\n",
      "0  Utkrist     95   Kathmandu\n",
      "1    Shahi     88     Pokhara\n",
      "2    Alice     85    Lalitpur\n",
      "3      Bob     90  Biratnagar\n",
      "\n",
      "Names column from DataFrame:\n",
      " 0    Utkrist\n",
      "1      Shahi\n",
      "2      Alice\n",
      "3        Bob\n",
      "Name: Name, dtype: object\n"
     ]
    },
    {
     "data": {
      "image/png": "[encoded data removed]",
      "text/plain": [
       "<Figure size 700x500 with 1 Axes>"
      ]
     },
     "metadata": {},
     "output_type": "display_data"
    }
   ],
   "source": [
    "import numpy as np\n",
    "import pandas as pd\n",
    "import matplotlib.pyplot as plt\n",
    "\n",
    "# --- NumPy: Arrays and Operations ---\n",
    "\n",
    "# Creating a NumPy array from a list of integers.\n",
    "arr = np.array([1, 2, 3, 4])\n",
    "print(\"Original NumPy array:\", arr)\n",
    "\n",
    "# Performing an element-wise operation, multiplying the array by a scalar.\n",
    "scaled_arr = arr * 2\n",
    "print(\"Scaled NumPy array (multiplied by 2):\", scaled_arr)\n",
    "\n",
    "# --- Pandas: DataFrames ---\n",
    "\n",
    "# Defining a dictionary to structure the data.\n",
    "data_dict = {\n",
    "    \"Name\": [\"Utkrist\", \"Shahi\", \"Alice\", \"Bob\"],\n",
    "    \"Score\": [95, 88, 85, 90],\n",
    "    \"City\": [\"Kathmandu\", \"Pokhara\", \"Lalitpur\", \"Biratnagar\"]\n",
    "}\n",
    "\n",
    "# Constructing a Pandas DataFrame from the prepared dictionary.\n",
    "df = pd.DataFrame(data_dict)\n",
    "print(\"\\nPandas DataFrame:\\n\", df)\n",
    "\n",
    "# Selecting a specific column, 'Name', from the DataFrame.\n",
    "names = df[\"Name\"]\n",
    "print(\"\\nNames column from DataFrame:\\n\", names)\n",
    "\n",
    "# --- Matplotlib: Basic Plotting ---\n",
    "\n",
    "# Preparing simple numerical data for visualization.\n",
    "x_values = [1, 2, 3, 4, 5]\n",
    "y_values = [10, 15, 7, 20, 12]\n",
    "\n",
    "# Creating a new figure for the plot and defining its size.\n",
    "plt.figure(figsize=(7, 5))\n",
    "# Generating a line plot using the x and y values.\n",
    "plt.plot(x_values, y_values)\n",
    "# Setting the title of the plot for clarity.\n",
    "plt.title(\"Simple Line Plot Example\")\n",
    "# Labeling the x-axis.\n",
    "plt.xlabel(\"X-axis Label\")\n",
    "# Labeling the y-axis.\n",
    "plt.ylabel(\"Y-axis Label\")\n",
    "# Adding a grid to the plot for enhanced readability.\n",
    "plt.grid(True, linestyle='--', alpha=0.7)\n",
    "# Displaying the generated plot.\n",
    "plt.show()\n"
   ]
  }
 ],
 "metadata": {
  "kernelspec": {
   "display_name": "base",
   "language": "python",
   "name": "python3"
  },
  "language_info": {
   "codemirror_mode": {
    "name": "ipython",
    "version": 3
   },
   "file_extension": ".py",
   "mimetype": "text/x-python",
   "name": "python",
   "nbconvert_exporter": "python",
   "pygments_lexer": "ipython3",
   "version": "3.12.7"
  }
 },
 "nbformat": 4,
 "nbformat_minor": 5
}
